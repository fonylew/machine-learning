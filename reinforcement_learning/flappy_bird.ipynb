{
 "cells": [
  {
   "cell_type": "code",
   "execution_count": 4,
   "metadata": {},
   "outputs": [
    {
     "name": "stdout",
     "output_type": "stream",
     "text": [
      "Collecting flappy_bird_gym\n",
      "  Using cached flappy_bird_gym-0.3.0-py3-none-any.whl (558 kB)\n",
      "Collecting gym~=0.18.0\n",
      "  Downloading gym-0.18.3.tar.gz (1.6 MB)\n",
      "\u001b[2K     \u001b[90m━━━━━━━━━━━━━━━━━━━━━━━━━━━━━━━━━━━━━━━━\u001b[0m \u001b[32m1.6/1.6 MB\u001b[0m \u001b[31m5.5 MB/s\u001b[0m eta \u001b[36m0:00:00\u001b[0ma \u001b[36m0:00:01\u001b[0m\n",
      "\u001b[?25h  Preparing metadata (setup.py) ... \u001b[?25ldone\n",
      "\u001b[?25hCollecting pygame~=2.0.1\n",
      "  Using cached pygame-2.0.3-cp310-cp310-macosx_11_0_arm64.whl (4.8 MB)\n",
      "Collecting numpy~=1.19.5\n",
      "  Using cached numpy-1.19.5.zip (7.3 MB)\n",
      "  Installing build dependencies ... \u001b[?25ldone\n",
      "\u001b[?25h  Getting requirements to build wheel ... \u001b[?25ldone\n",
      "\u001b[?25h  Preparing metadata (pyproject.toml) ... \u001b[?25lerror\n",
      "  \u001b[1;31merror\u001b[0m: \u001b[1msubprocess-exited-with-error\u001b[0m\n",
      "  \n",
      "  \u001b[31m×\u001b[0m \u001b[32mPreparing metadata \u001b[0m\u001b[1;32m(\u001b[0m\u001b[32mpyproject.toml\u001b[0m\u001b[1;32m)\u001b[0m did not run successfully.\n",
      "  \u001b[31m│\u001b[0m exit code: \u001b[1;36m1\u001b[0m\n",
      "  \u001b[31m╰─>\u001b[0m \u001b[31m[46 lines of output]\u001b[0m\n",
      "  \u001b[31m   \u001b[0m Error in sitecustomize; set PYTHONVERBOSE for traceback:\n",
      "  \u001b[31m   \u001b[0m AssertionError:\n",
      "  \u001b[31m   \u001b[0m <string>:67: RuntimeWarning: NumPy 1.19.5 may not yet support Python 3.10.\n",
      "  \u001b[31m   \u001b[0m Running from numpy source directory.\n",
      "  \u001b[31m   \u001b[0m <string>:480: UserWarning: Unrecognized setuptools command, proceeding with generating Cython sources and expanding templates\n",
      "  \u001b[31m   \u001b[0m Cythonizing sources\n",
      "  \u001b[31m   \u001b[0m Error in sitecustomize; set PYTHONVERBOSE for traceback:\n",
      "  \u001b[31m   \u001b[0m AssertionError:\n",
      "  \u001b[31m   \u001b[0m Processing numpy/random/_bounded_integers.pxd.in\n",
      "  \u001b[31m   \u001b[0m Processing numpy/random/_philox.pyx\n",
      "  \u001b[31m   \u001b[0m Traceback (most recent call last):\n",
      "  \u001b[31m   \u001b[0m   File \"/private/var/folders/7z/x7mkl0l95_5gf_rjh57stc5c0000gn/T/pip-install-ay0xjbcm/numpy_c1a1f505728c48fb8f39da6ced8ca2ed/tools/cythonize.py\", line 59, in process_pyx\n",
      "  \u001b[31m   \u001b[0m     from Cython.Compiler.Version import version as cython_version\n",
      "  \u001b[31m   \u001b[0m ModuleNotFoundError: No module named 'Cython'\n",
      "  \u001b[31m   \u001b[0m \n",
      "  \u001b[31m   \u001b[0m During handling of the above exception, another exception occurred:\n",
      "  \u001b[31m   \u001b[0m \n",
      "  \u001b[31m   \u001b[0m Traceback (most recent call last):\n",
      "  \u001b[31m   \u001b[0m   File \"/private/var/folders/7z/x7mkl0l95_5gf_rjh57stc5c0000gn/T/pip-install-ay0xjbcm/numpy_c1a1f505728c48fb8f39da6ced8ca2ed/tools/cythonize.py\", line 235, in <module>\n",
      "  \u001b[31m   \u001b[0m     main()\n",
      "  \u001b[31m   \u001b[0m   File \"/private/var/folders/7z/x7mkl0l95_5gf_rjh57stc5c0000gn/T/pip-install-ay0xjbcm/numpy_c1a1f505728c48fb8f39da6ced8ca2ed/tools/cythonize.py\", line 231, in main\n",
      "  \u001b[31m   \u001b[0m     find_process_files(root_dir)\n",
      "  \u001b[31m   \u001b[0m   File \"/private/var/folders/7z/x7mkl0l95_5gf_rjh57stc5c0000gn/T/pip-install-ay0xjbcm/numpy_c1a1f505728c48fb8f39da6ced8ca2ed/tools/cythonize.py\", line 222, in find_process_files\n",
      "  \u001b[31m   \u001b[0m     process(root_dir, fromfile, tofile, function, hash_db)\n",
      "  \u001b[31m   \u001b[0m   File \"/private/var/folders/7z/x7mkl0l95_5gf_rjh57stc5c0000gn/T/pip-install-ay0xjbcm/numpy_c1a1f505728c48fb8f39da6ced8ca2ed/tools/cythonize.py\", line 188, in process\n",
      "  \u001b[31m   \u001b[0m     processor_function(fromfile, tofile)\n",
      "  \u001b[31m   \u001b[0m   File \"/private/var/folders/7z/x7mkl0l95_5gf_rjh57stc5c0000gn/T/pip-install-ay0xjbcm/numpy_c1a1f505728c48fb8f39da6ced8ca2ed/tools/cythonize.py\", line 64, in process_pyx\n",
      "  \u001b[31m   \u001b[0m     raise OSError('Cython needs to be installed in Python as a module')\n",
      "  \u001b[31m   \u001b[0m OSError: Cython needs to be installed in Python as a module\n",
      "  \u001b[31m   \u001b[0m Traceback (most recent call last):\n",
      "  \u001b[31m   \u001b[0m   File \"/opt/homebrew/lib/python3.10/site-packages/pip/_vendor/pep517/in_process/_in_process.py\", line 363, in <module>\n",
      "  \u001b[31m   \u001b[0m     main()\n",
      "  \u001b[31m   \u001b[0m   File \"/opt/homebrew/lib/python3.10/site-packages/pip/_vendor/pep517/in_process/_in_process.py\", line 345, in main\n",
      "  \u001b[31m   \u001b[0m     json_out['return_val'] = hook(**hook_input['kwargs'])\n",
      "  \u001b[31m   \u001b[0m   File \"/opt/homebrew/lib/python3.10/site-packages/pip/_vendor/pep517/in_process/_in_process.py\", line 164, in prepare_metadata_for_build_wheel\n",
      "  \u001b[31m   \u001b[0m     return hook(metadata_directory, config_settings)\n",
      "  \u001b[31m   \u001b[0m   File \"/opt/homebrew/Cellar/python@3.10/3.10.8/Frameworks/Python.framework/Versions/3.10/lib/python3.10/site-packages/setuptools/build_meta.py\", line 377, in prepare_metadata_for_build_wheel\n",
      "  \u001b[31m   \u001b[0m     self.run_setup()\n",
      "  \u001b[31m   \u001b[0m   File \"/opt/homebrew/Cellar/python@3.10/3.10.8/Frameworks/Python.framework/Versions/3.10/lib/python3.10/site-packages/setuptools/build_meta.py\", line 482, in run_setup\n",
      "  \u001b[31m   \u001b[0m     super(_BuildMetaLegacyBackend,\n",
      "  \u001b[31m   \u001b[0m   File \"/opt/homebrew/Cellar/python@3.10/3.10.8/Frameworks/Python.framework/Versions/3.10/lib/python3.10/site-packages/setuptools/build_meta.py\", line 335, in run_setup\n",
      "  \u001b[31m   \u001b[0m     exec(code, locals())\n",
      "  \u001b[31m   \u001b[0m   File \"<string>\", line 508, in <module>\n",
      "  \u001b[31m   \u001b[0m   File \"<string>\", line 488, in setup_package\n",
      "  \u001b[31m   \u001b[0m   File \"<string>\", line 285, in generate_cython\n",
      "  \u001b[31m   \u001b[0m RuntimeError: Running cythonize failed!\n",
      "  \u001b[31m   \u001b[0m \u001b[31m[end of output]\u001b[0m\n",
      "  \n",
      "  \u001b[1;35mnote\u001b[0m: This error originates from a subprocess, and is likely not a problem with pip.\n",
      "\u001b[?25h\u001b[1;31merror\u001b[0m: \u001b[1mmetadata-generation-failed\u001b[0m\n",
      "\n",
      "\u001b[31m×\u001b[0m Encountered error while generating package metadata.\n",
      "\u001b[31m╰─>\u001b[0m See above for output.\n",
      "\n",
      "\u001b[1;35mnote\u001b[0m: This is an issue with the package mentioned above, not pip.\n",
      "\u001b[1;36mhint\u001b[0m: See above for details.\n",
      "\n",
      "\u001b[1m[\u001b[0m\u001b[34;49mnotice\u001b[0m\u001b[1;39;49m]\u001b[0m\u001b[39;49m A new release of pip available: \u001b[0m\u001b[31;49m22.2.2\u001b[0m\u001b[39;49m -> \u001b[0m\u001b[32;49m22.3.1\u001b[0m\n",
      "\u001b[1m[\u001b[0m\u001b[34;49mnotice\u001b[0m\u001b[1;39;49m]\u001b[0m\u001b[39;49m To update, run: \u001b[0m\u001b[32;49mpython3.10 -m pip install --upgrade pip\u001b[0m\n"
     ]
    }
   ],
   "source": [
    "!pip3 install flappy_bird_gym"
   ]
  },
  {
   "cell_type": "code",
   "execution_count": 1,
   "metadata": {},
   "outputs": [
    {
     "ename": "ModuleNotFoundError",
     "evalue": "No module named 'flappy_bird_gym'",
     "output_type": "error",
     "traceback": [
      "\u001b[0;31m---------------------------------------------------------------------------\u001b[0m",
      "\u001b[0;31mModuleNotFoundError\u001b[0m                       Traceback (most recent call last)",
      "Cell \u001b[0;32mIn [1], line 1\u001b[0m\n\u001b[0;32m----> 1\u001b[0m \u001b[39mimport\u001b[39;00m \u001b[39mflappy_bird_gym\u001b[39;00m\n\u001b[1;32m      2\u001b[0m env \u001b[39m=\u001b[39m flappy_bird_gym\u001b[39m.\u001b[39mmake(\u001b[39m\"\u001b[39m\u001b[39mFlappyBird-v0\u001b[39m\u001b[39m\"\u001b[39m)\n",
      "\u001b[0;31mModuleNotFoundError\u001b[0m: No module named 'flappy_bird_gym'"
     ]
    }
   ],
   "source": [
    "import flappy_bird_gym\n",
    "env = flappy_bird_gym.make(\"FlappyBird-v0\")\n"
   ]
  },
  {
   "cell_type": "code",
   "execution_count": null,
   "metadata": {},
   "outputs": [],
   "source": [
    "obs = env.reset()\n",
    "while True:\n",
    "    # Next action:\n",
    "    # (feed the observation to your agent here)\n",
    "    action = ...  # env.action_space.sample() for a random action\n",
    "\n",
    "    # Processing:\n",
    "    obs, reward, done, info = env.step(action)\n",
    "    \n",
    "    # Rendering the game:\n",
    "    # (remove this two lines during training)\n",
    "    env.render()\n",
    "    time.sleep(1 / 30)  # FPS\n",
    "    \n",
    "    # Checking if the player is still alive\n",
    "    if done:\n",
    "        break\n",
    "\n",
    "env.close()"
   ]
  }
 ],
 "metadata": {
  "kernelspec": {
   "display_name": "Python 3.10.8 64-bit",
   "language": "python",
   "name": "python3"
  },
  "language_info": {
   "codemirror_mode": {
    "name": "ipython",
    "version": 3
   },
   "file_extension": ".py",
   "mimetype": "text/x-python",
   "name": "python",
   "nbconvert_exporter": "python",
   "pygments_lexer": "ipython3",
   "version": "3.10.8"
  },
  "orig_nbformat": 4,
  "vscode": {
   "interpreter": {
    "hash": "b0fa6594d8f4cbf19f97940f81e996739fb7646882a419484c72d19e05852a7e"
   }
  }
 },
 "nbformat": 4,
 "nbformat_minor": 2
}
