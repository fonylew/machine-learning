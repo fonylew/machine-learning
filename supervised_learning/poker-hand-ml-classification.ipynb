{
 "cells": [
  {
   "cell_type": "markdown",
   "metadata": {},
   "source": [
    "# Poker Hand Classification"
   ]
  },
  {
   "cell_type": "markdown",
   "metadata": {},
   "source": [
    "_Supervised Learning_\n",
    "\n",
    "CS7641 - Machine Learning\n",
    "\n",
    "Kamolphan Liwprasert (kliwprasert3@gatech.edu)\n",
    "\n",
    "GTID: 903457032"
   ]
  },
  {
   "cell_type": "markdown",
   "metadata": {},
   "source": [
    "Objective: To see how well each classification algorithm performs on rule inductions and compare model complexities between models"
   ]
  },
  {
   "cell_type": "code",
   "execution_count": 2,
   "metadata": {},
   "outputs": [],
   "source": [
    "import numpy as np # linear algebra\n",
    "import pandas as pd # data processing, CSV file I/O (e.g. pd.read_csv)\n",
    "import matplotlib.pyplot as plt\n",
    "from matplotlib import cm\n",
    "from matplotlib.colors import ListedColormap"
   ]
  },
  {
   "cell_type": "code",
   "execution_count": 5,
   "metadata": {
    "_cell_guid": "79c7e3d0-c299-4dcb-8224-4455121ee9b0",
    "_uuid": "d629ff2d2480ee46fbb7e2d37f6b5fab8052498a"
   },
   "outputs": [
    {
     "data": {
      "text/html": [
       "<div>\n",
       "<style scoped>\n",
       "    .dataframe tbody tr th:only-of-type {\n",
       "        vertical-align: middle;\n",
       "    }\n",
       "\n",
       "    .dataframe tbody tr th {\n",
       "        vertical-align: top;\n",
       "    }\n",
       "\n",
       "    .dataframe thead th {\n",
       "        text-align: right;\n",
       "    }\n",
       "</style>\n",
       "<table border=\"1\" class=\"dataframe\">\n",
       "  <thead>\n",
       "    <tr style=\"text-align: right;\">\n",
       "      <th></th>\n",
       "      <th>S1</th>\n",
       "      <th>C1</th>\n",
       "      <th>S2</th>\n",
       "      <th>C2</th>\n",
       "      <th>S3</th>\n",
       "      <th>C3</th>\n",
       "      <th>S4</th>\n",
       "      <th>C4</th>\n",
       "      <th>S5</th>\n",
       "      <th>C5</th>\n",
       "      <th>hand</th>\n",
       "    </tr>\n",
       "  </thead>\n",
       "  <tbody>\n",
       "    <tr>\n",
       "      <th>0</th>\n",
       "      <td>1</td>\n",
       "      <td>10</td>\n",
       "      <td>1</td>\n",
       "      <td>11</td>\n",
       "      <td>1</td>\n",
       "      <td>13</td>\n",
       "      <td>1</td>\n",
       "      <td>12</td>\n",
       "      <td>1</td>\n",
       "      <td>1</td>\n",
       "      <td>9</td>\n",
       "    </tr>\n",
       "    <tr>\n",
       "      <th>1</th>\n",
       "      <td>2</td>\n",
       "      <td>11</td>\n",
       "      <td>2</td>\n",
       "      <td>13</td>\n",
       "      <td>2</td>\n",
       "      <td>10</td>\n",
       "      <td>2</td>\n",
       "      <td>12</td>\n",
       "      <td>2</td>\n",
       "      <td>1</td>\n",
       "      <td>9</td>\n",
       "    </tr>\n",
       "    <tr>\n",
       "      <th>2</th>\n",
       "      <td>3</td>\n",
       "      <td>12</td>\n",
       "      <td>3</td>\n",
       "      <td>11</td>\n",
       "      <td>3</td>\n",
       "      <td>13</td>\n",
       "      <td>3</td>\n",
       "      <td>10</td>\n",
       "      <td>3</td>\n",
       "      <td>1</td>\n",
       "      <td>9</td>\n",
       "    </tr>\n",
       "    <tr>\n",
       "      <th>3</th>\n",
       "      <td>4</td>\n",
       "      <td>10</td>\n",
       "      <td>4</td>\n",
       "      <td>11</td>\n",
       "      <td>4</td>\n",
       "      <td>1</td>\n",
       "      <td>4</td>\n",
       "      <td>13</td>\n",
       "      <td>4</td>\n",
       "      <td>12</td>\n",
       "      <td>9</td>\n",
       "    </tr>\n",
       "    <tr>\n",
       "      <th>4</th>\n",
       "      <td>4</td>\n",
       "      <td>1</td>\n",
       "      <td>4</td>\n",
       "      <td>13</td>\n",
       "      <td>4</td>\n",
       "      <td>12</td>\n",
       "      <td>4</td>\n",
       "      <td>11</td>\n",
       "      <td>4</td>\n",
       "      <td>10</td>\n",
       "      <td>9</td>\n",
       "    </tr>\n",
       "  </tbody>\n",
       "</table>\n",
       "</div>"
      ],
      "text/plain": [
       "   S1  C1  S2  C2  S3  C3  S4  C4  S5  C5  hand\n",
       "0   1  10   1  11   1  13   1  12   1   1     9\n",
       "1   2  11   2  13   2  10   2  12   2   1     9\n",
       "2   3  12   3  11   3  13   3  10   3   1     9\n",
       "3   4  10   4  11   4   1   4  13   4  12     9\n",
       "4   4   1   4  13   4  12   4  11   4  10     9"
      ]
     },
     "execution_count": 5,
     "metadata": {},
     "output_type": "execute_result"
    }
   ],
   "source": [
    "train_data = pd.read_csv('poker-hand-training-true.data', header=None)\n",
    "train_data.columns = ['S1', 'C1','S2', 'C2','S3', 'C3','S4', 'C4','S5', 'C5','hand']\n",
    "\n",
    "test_data = pd.read_csv('poker-hand-testing.data', header=None)\n",
    "test_data.columns = ['S1', 'C1','S2', 'C2','S3', 'C3','S4', 'C4','S5', 'C5','hand']\n",
    "\n",
    "df = train_data\n",
    "df.head()"
   ]
  },
  {
   "cell_type": "markdown",
   "metadata": {},
   "source": [
    "# Poker Hand dataset\n",
    "\n",
    "Dataset Link: https://archive.ics.uci.edu/ml/datasets/Poker+Hand\n",
    "(Description below is from the dataset link)\n",
    "\n",
    "**Creators:**\n",
    "\n",
    "Robert Cattral (cattral '@' gmail.com)\n",
    "\n",
    "Franz Oppacher (oppacher '@' scs.carleton.ca)\n",
    "Carleton University, Department of Computer Science\n",
    "Intelligent Systems Research Unit\n",
    "1125 Colonel By Drive, Ottawa, Ontario, Canada, K1S5B6\n",
    "\n",
    "**Data Set Information:**\n",
    "\n",
    "Each record is an example of a hand consisting of five playing cards drawn from a standard deck of 52. Each card is described using two attributes (suit and rank), for a total of 10 predictive attributes. There is one Class attribute that describes the \"Poker Hand\". The order of cards is important, which is why there are 480 possible Royal Flush hands as compared to 4 (one for each suit - explained in [Web Link]).\n",
    "\n",
    "**Attribute Information:**\n",
    "\n",
    "1) S1 \"Suit of card #1\"\n",
    "Ordinal (1-4) representing {Hearts, Spades, Diamonds, Clubs}\n",
    "\n",
    "2) C1 \"Rank of card #1\"\n",
    "Numerical (1-13) representing (Ace, 2, 3, ... , Queen, King)\n",
    "\n",
    "3) S2 \"Suit of card #2\"\n",
    "Ordinal (1-4) representing {Hearts, Spades, Diamonds, Clubs}\n",
    "\n",
    "4) C2 \"Rank of card #2\"\n",
    "Numerical (1-13) representing (Ace, 2, 3, ... , Queen, King)\n",
    "\n",
    "5) S3 \"Suit of card #3\"\n",
    "Ordinal (1-4) representing {Hearts, Spades, Diamonds, Clubs}\n",
    "\n",
    "6) C3 \"Rank of card #3\"\n",
    "Numerical (1-13) representing (Ace, 2, 3, ... , Queen, King)\n",
    "\n",
    "7) S4 \"Suit of card #4\"\n",
    "Ordinal (1-4) representing {Hearts, Spades, Diamonds, Clubs}\n",
    "\n",
    "8) C4 \"Rank of card #4\"\n",
    "Numerical (1-13) representing (Ace, 2, 3, ... , Queen, King)\n",
    "\n",
    "9) S5 \"Suit of card #5\"\n",
    "Ordinal (1-4) representing {Hearts, Spades, Diamonds, Clubs}\n",
    "\n",
    "10) C5 \"Rank of card 5\"\n",
    "Numerical (1-13) representing (Ace, 2, 3, ... , Queen, King)\n",
    "\n",
    "11) hand CLASS \"Poker Hand\"\n",
    "Ordinal (0-9)\n",
    "\n",
    "- 0: Nothing in hand; not a recognized poker hand\n",
    "- 1: One pair; one pair of equal ranks within five cards\n",
    "- 2: Two pairs; two pairs of equal ranks within five cards\n",
    "- 3: Three of a kind; three equal ranks within five cards\n",
    "- 4: Straight; five cards, sequentially ranked with no gaps\n",
    "- 5: Flush; five cards with the same suit\n",
    "- 6: Full house; pair + different rank three of a kind\n",
    "- 7: Four of a kind; four equal ranks within five cards\n",
    "- 8: Straight flush; straight + flush\n",
    "- 9: Royal flush; {Ace, King, Queen, Jack, Ten} + flush "
   ]
  },
  {
   "cell_type": "markdown",
   "metadata": {},
   "source": [
    "# Dimension"
   ]
  },
  {
   "cell_type": "code",
   "execution_count": 7,
   "metadata": {},
   "outputs": [
    {
     "name": "stdout",
     "output_type": "stream",
     "text": [
      "Train data shape:  (25010, 11)\n",
      "Test data shape:  (1000000, 11)\n"
     ]
    }
   ],
   "source": [
    "print(\"Train data shape: \",train_data.shape)\n",
    "print(\"Test data shape: \",test_data.shape)"
   ]
  },
  {
   "cell_type": "markdown",
   "metadata": {},
   "source": [
    "# Data Quality Check"
   ]
  },
  {
   "cell_type": "code",
   "execution_count": 8,
   "metadata": {},
   "outputs": [
    {
     "name": "stdout",
     "output_type": "stream",
     "text": [
      "<class 'pandas.core.frame.DataFrame'>\n",
      "RangeIndex: 25010 entries, 0 to 25009\n",
      "Data columns (total 11 columns):\n",
      " #   Column  Non-Null Count  Dtype\n",
      "---  ------  --------------  -----\n",
      " 0   S1      25010 non-null  int64\n",
      " 1   C1      25010 non-null  int64\n",
      " 2   S2      25010 non-null  int64\n",
      " 3   C2      25010 non-null  int64\n",
      " 4   S3      25010 non-null  int64\n",
      " 5   C3      25010 non-null  int64\n",
      " 6   S4      25010 non-null  int64\n",
      " 7   C4      25010 non-null  int64\n",
      " 8   S5      25010 non-null  int64\n",
      " 9   C5      25010 non-null  int64\n",
      " 10  hand    25010 non-null  int64\n",
      "dtypes: int64(11)\n",
      "memory usage: 2.1 MB\n"
     ]
    }
   ],
   "source": [
    "# check on DataFrame basic information\n",
    "df.info()"
   ]
  },
  {
   "cell_type": "markdown",
   "metadata": {},
   "source": [
    "no any missing value"
   ]
  },
  {
   "cell_type": "code",
   "execution_count": 9,
   "metadata": {},
   "outputs": [
    {
     "data": {
      "text/plain": [
       "10"
      ]
     },
     "execution_count": 9,
     "metadata": {},
     "output_type": "execute_result"
    }
   ],
   "source": [
    "# check unique value in each column\n",
    "df.hand.nunique()"
   ]
  },
  {
   "cell_type": "markdown",
   "metadata": {},
   "source": [
    "All attributes contain all possible values"
   ]
  },
  {
   "cell_type": "code",
   "execution_count": 11,
   "metadata": {},
   "outputs": [
    {
     "data": {
      "text/plain": [
       "0        False\n",
       "1        False\n",
       "2        False\n",
       "3        False\n",
       "4        False\n",
       "         ...  \n",
       "25005    False\n",
       "25006    False\n",
       "25007    False\n",
       "25008    False\n",
       "25009    False\n",
       "Length: 25010, dtype: bool"
      ]
     },
     "execution_count": 11,
     "metadata": {},
     "output_type": "execute_result"
    }
   ],
   "source": [
    "# check duplication\n",
    "df.duplicated()"
   ]
  },
  {
   "cell_type": "markdown",
   "metadata": {},
   "source": [
    "# EDA"
   ]
  },
  {
   "cell_type": "code",
   "execution_count": 12,
   "metadata": {},
   "outputs": [
    {
     "data": {
      "text/html": [
       "<div>\n",
       "<style scoped>\n",
       "    .dataframe tbody tr th:only-of-type {\n",
       "        vertical-align: middle;\n",
       "    }\n",
       "\n",
       "    .dataframe tbody tr th {\n",
       "        vertical-align: top;\n",
       "    }\n",
       "\n",
       "    .dataframe thead th {\n",
       "        text-align: right;\n",
       "    }\n",
       "</style>\n",
       "<table border=\"1\" class=\"dataframe\">\n",
       "  <thead>\n",
       "    <tr style=\"text-align: right;\">\n",
       "      <th></th>\n",
       "      <th>S1</th>\n",
       "    </tr>\n",
       "    <tr>\n",
       "      <th>hand</th>\n",
       "      <th></th>\n",
       "    </tr>\n",
       "  </thead>\n",
       "  <tbody>\n",
       "    <tr>\n",
       "      <th>0</th>\n",
       "      <td>12493</td>\n",
       "    </tr>\n",
       "    <tr>\n",
       "      <th>1</th>\n",
       "      <td>10599</td>\n",
       "    </tr>\n",
       "    <tr>\n",
       "      <th>2</th>\n",
       "      <td>1206</td>\n",
       "    </tr>\n",
       "    <tr>\n",
       "      <th>3</th>\n",
       "      <td>513</td>\n",
       "    </tr>\n",
       "    <tr>\n",
       "      <th>4</th>\n",
       "      <td>93</td>\n",
       "    </tr>\n",
       "    <tr>\n",
       "      <th>5</th>\n",
       "      <td>54</td>\n",
       "    </tr>\n",
       "    <tr>\n",
       "      <th>6</th>\n",
       "      <td>36</td>\n",
       "    </tr>\n",
       "    <tr>\n",
       "      <th>7</th>\n",
       "      <td>6</td>\n",
       "    </tr>\n",
       "    <tr>\n",
       "      <th>8</th>\n",
       "      <td>5</td>\n",
       "    </tr>\n",
       "    <tr>\n",
       "      <th>9</th>\n",
       "      <td>5</td>\n",
       "    </tr>\n",
       "  </tbody>\n",
       "</table>\n",
       "</div>"
      ],
      "text/plain": [
       "         S1\n",
       "hand       \n",
       "0     12493\n",
       "1     10599\n",
       "2      1206\n",
       "3       513\n",
       "4        93\n",
       "5        54\n",
       "6        36\n",
       "7         6\n",
       "8         5\n",
       "9         5"
      ]
     },
     "execution_count": 12,
     "metadata": {},
     "output_type": "execute_result"
    },
    {
     "data": {
      "image/png": "[encoded data removed]",
      "text/plain": [
       "<Figure size 432x288 with 1 Axes>"
      ]
     },
     "metadata": {
      "needs_background": "light"
     },
     "output_type": "display_data"
    }
   ],
   "source": [
    "color = cm.CMRmap(np.linspace(0.1, 0.8, df.hand.nunique()))\n",
    "ax = df.groupby('hand').count()[['S1']].plot(kind='bar', color=color)\n",
    "ax.set_title(\"No. of instances per class\")\n",
    "ax.set_ylabel(\"No. of class\")\n",
    "ax.set_xlabel(\"Classes\")\n",
    "plt.grid()\n",
    "\n",
    "df.groupby('hand').count()[['S1']]"
   ]
  },
  {
   "cell_type": "code",
   "execution_count": 13,
   "metadata": {},
   "outputs": [
    {
     "data": {
      "text/plain": [
       "Index(['S1', 'C1', 'S2', 'C2', 'S3', 'C3', 'S4', 'C4', 'S5', 'C5', 'hand'], dtype='object')"
      ]
     },
     "execution_count": 13,
     "metadata": {},
     "output_type": "execute_result"
    }
   ],
   "source": [
    "df.columns"
   ]
  },
  {
   "cell_type": "markdown",
   "metadata": {},
   "source": [
    "Experiment "
   ]
  },
  {
   "cell_type": "code",
   "execution_count": null,
   "metadata": {},
   "outputs": [],
   "source": []
  },
  {
   "cell_type": "code",
   "execution_count": null,
   "metadata": {},
   "outputs": [],
   "source": [
    "# https://scikit-learn.org/stable/auto_examples/classification/plot_classifier_comparison.html#sphx-glr-auto-examples-classification-plot-classifier-comparison-py\n",
    "\n",
    "import numpy as np\n",
    "import matplotlib.pyplot as plt\n",
    "from matplotlib.colors import ListedColormap\n",
    "from sklearn.model_selection import train_test_split\n",
    "from sklearn.preprocessing import StandardScaler\n",
    "from sklearn.datasets import make_moons, make_circles, make_classification\n",
    "from sklearn.neural_network import MLPClassifier\n",
    "from sklearn.neighbors import KNeighborsClassifier\n",
    "from sklearn.svm import SVC\n",
    "from sklearn.gaussian_process import GaussianProcessClassifier\n",
    "from sklearn.gaussian_process.kernels import RBF\n",
    "from sklearn.tree import DecisionTreeClassifier\n",
    "from sklearn.ensemble import RandomForestClassifier, AdaBoostClassifier\n",
    "from sklearn.naive_bayes import GaussianNB\n",
    "from sklearn.discriminant_analysis import QuadraticDiscriminantAnalysis\n",
    "\n",
    "h = .02  # step size in the mesh\n",
    "\n",
    "names = [\"Nearest Neighbors\", \"Linear SVM\", \"RBF SVM\", \"Gaussian Process\",\n",
    "         \"Decision Tree\", \"Random Forest\", \"Neural Net\", \"AdaBoost\",\n",
    "         \"Naive Bayes\", \"QDA\"]\n",
    "\n",
    "classifiers = [\n",
    "    KNeighborsClassifier(3),\n",
    "    SVC(kernel=\"linear\", C=0.025),\n",
    "    SVC(gamma=2, C=1),\n",
    "    GaussianProcessClassifier(1.0 * RBF(1.0)),\n",
    "    DecisionTreeClassifier(max_depth=5),\n",
    "    RandomForestClassifier(max_depth=5, n_estimators=10, max_features=1),\n",
    "    MLPClassifier(alpha=1, max_iter=1000),\n",
    "    AdaBoostClassifier(),\n",
    "    GaussianNB(),\n",
    "    QuadraticDiscriminantAnalysis()]\n",
    "\n",
    "# X, y = make_classification(n_features=10, n_redundant=0, n_informative=10,\n",
    "#                            random_state=1, n_clusters_per_class=1)\n",
    "# rng = np.random.RandomState(2)\n",
    "# X += 2 * rng.uniform(size=X.shape)\n",
    "# linearly_separable = (X, y)\n",
    "\n",
    "# datasets = train_data\n",
    "\n",
    "# figure = plt.figure(figsize=(27, 9))\n",
    "# i = 1\n",
    "\n",
    "# preprocess dataset, split into training and test part\n",
    "X_train, y_train = train_data[['S1', 'C1', 'S2', 'C2', 'S3', 'C3', 'S4', 'C4', 'S5', 'C5']], train_data[['hand']]\n",
    "X_test, y_test = test_data[['S1', 'C1', 'S2', 'C2', 'S3', 'C3', 'S4', 'C4', 'S5', 'C5']], test_data[['hand']]\n",
    "# X = StandardScaler().fit_transform(X)\n",
    "# X_train, X_test, y_train, y_test = \\\n",
    "#     train_test_split(X, y, test_size=.4, random_state=42)\n",
    "\n",
    "# x_min, x_max = X[:, 0].min() - .5, X[:, 0].max() + .5\n",
    "# y_min, y_max = X[:, 1].min() - .5, X[:, 1].max() + .5\n",
    "# xx, yy = np.meshgrid(np.arange(x_min, x_max, h),\n",
    "#                      np.arange(y_min, y_max, h))\n",
    "\n",
    "# just plot the dataset first\n",
    "# cm = plt.cm.RdBu\n",
    "# cm_bright = ListedColormap(['#FF0000', '#0000FF'])\n",
    "# ax = plt.subplot(len(datasets), len(classifiers) + 1, i)\n",
    "# if ds_cnt == 0:\n",
    "#     ax.set_title(\"Input data\")\n",
    "# Plot the training points\n",
    "# ax.scatter(X_train[:, 0], X_train[:, 1], c=y_train, cmap=cm_bright,\n",
    "#            edgecolors='k')\n",
    "# Plot the testing points\n",
    "# ax.scatter(X_test[:, 0], X_test[:, 1], c=y_test, cmap=cm_bright, alpha=0.6,\n",
    "#            edgecolors='k')\n",
    "# ax.set_xlim(xx.min(), xx.max())\n",
    "# ax.set_ylim(yy.min(), yy.max())\n",
    "# ax.set_xticks(())\n",
    "# ax.set_yticks(())\n",
    "# i += 1\n",
    "\n",
    "# iterate over classifiers\n",
    "for name, clf in zip(names, classifiers):\n",
    "#     ax = plt.subplot(len(datasets), len(classifiers) + 1, i)\n",
    "    clf.fit(X_train, y_train)\n",
    "    score = clf.score(X_test, y_test)\n",
    "    print(names, score)\n",
    "    # Plot the decision boundary. For that, we will assign a color to each\n",
    "    # point in the mesh [x_min, x_max]x[y_min, y_max].\n",
    "#     if hasattr(clf, \"decision_function\"):\n",
    "#         Z = clf.decision_function(np.c_[xx.ravel(), yy.ravel()])\n",
    "#     else:\n",
    "#         Z = clf.predict_proba(np.c_[xx.ravel(), yy.ravel()])[:, 1]\n",
    "\n",
    "    # Put the result into a color plot\n",
    "#     Z = Z.reshape(xx.shape)\n",
    "#     ax.contourf(xx, yy, Z, cmap=cm, alpha=.8)\n",
    "\n",
    "    # Plot the training points\n",
    "#     ax.scatter(X_train[:, 0], X_train[:, 1], c=y_train, cmap=cm_bright,\n",
    "#                edgecolors='k')\n",
    "    # Plot the testing points\n",
    "#     ax.scatter(X_test[:, 0], X_test[:, 1], c=y_test, cmap=cm_bright,\n",
    "#                edgecolors='k', alpha=0.6)\n",
    "\n",
    "#     ax.set_xlim(xx.min(), xx.max())\n",
    "#     ax.set_ylim(yy.min(), yy.max())\n",
    "#     ax.set_xticks(())\n",
    "#     ax.set_yticks(())\n",
    "#     if ds_cnt == 0:\n",
    "#         ax.set_title(name)\n",
    "#     ax.text(xx.max() - .3, yy.min() + .3, ('%.2f' % score).lstrip('0'),\n",
    "#             size=15, horizontalalignment='right')\n",
    "#     i += 1\n",
    "\n",
    "# plt.tight_layout()\n",
    "# plt.show()"
   ]
  },
  {
   "cell_type": "markdown",
   "metadata": {},
   "source": [
    "# 1 Decision Trees\n",
    "with some form of pruning and describe split attributes"
   ]
  },
  {
   "cell_type": "code",
   "execution_count": null,
   "metadata": {},
   "outputs": [],
   "source": []
  },
  {
   "cell_type": "markdown",
   "metadata": {},
   "source": [
    "# 2 Neural Networks\n"
   ]
  },
  {
   "cell_type": "markdown",
   "metadata": {},
   "source": [
    "# 3 Boosting\n",
    "with much more aggressive about pruning"
   ]
  },
  {
   "cell_type": "markdown",
   "metadata": {},
   "source": [
    "# 4 Support Vector Machines\n",
    "with at least two kernel functions"
   ]
  },
  {
   "cell_type": "markdown",
   "metadata": {},
   "source": [
    "# 5 K-Nearest Neighbors\n",
    "with different values of k"
   ]
  },
  {
   "cell_type": "markdown",
   "metadata": {},
   "source": [
    "# References\n",
    "- https://scikit-learn.org/stable/auto_examples/classification/plot_classifier_comparison.html#sphx-glr-auto-examples-classification-plot-classifier-comparison-py\n"
   ]
  }
 ],
 "metadata": {
  "kernelspec": {
   "display_name": "PyCharm (machine-learning)",
   "language": "python",
   "name": "pycharm-7ba83a6e"
  },
  "language_info": {
   "codemirror_mode": {
    "name": "ipython",
    "version": 3
   },
   "file_extension": ".py",
   "mimetype": "text/x-python",
   "name": "python",
   "nbconvert_exporter": "python",
   "pygments_lexer": "ipython3",
   "version": "3.7.9"
  }
 },
 "nbformat": 4,
 "nbformat_minor": 4
}
